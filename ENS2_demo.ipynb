{
 "cells": [
  {
   "cell_type": "markdown",
   "metadata": {},
   "source": [
    "# Demo for Using ENS<sup>2</sup>\n",
    "This demo shows partial examples of using ENS<sup>2</sup> to inference spikes as in:\n",
    "<br>Zhou et al. <b>\"Effective and Efficient Neural Networks for Spike Inference from In Vivo Calcium Imaging\"</b>\n"
   ]
  },
  {
   "cell_type": "markdown",
   "metadata": {},
   "source": [
    "# Requirements:\n",
    "\n",
    "<b>Inference with pre-trained model:</b>\n",
    "<br>We have provided the pre-trained ENS<sup>2</sup> model in this package. \n",
    "<br>Any regular PC is ready for inference even on a <b>CPU</b> (or GPU, if any) with the following packages installed:\n",
    "- python == 3.6\n",
    "- torch  >= 1.7.1\n",
    "- numpy  >= 1.19.2\n",
    "- scipy  >= 1.5.2\n",
    "- tqdm   >= 4.59.0\n",
    "\n",
    "\n",
    "<b>However, you can also train a new model from scratch with additional requirements:</b>\n",
    "- CUDA-enabled <b>GPU</b>, together with proper CUDA and cuDNN toolkits\n",
    "- 24Gb of system RAM (recommended)\n",
    "- Training database (please refer to <i>Benchmark_demo.ipynb</i> for further instructions)"
   ]
  },
  {
   "cell_type": "code",
   "execution_count": 1,
   "metadata": {},
   "outputs": [],
   "source": [
    "import numpy\n",
    "import scipy.io as scio\n",
    "\n",
    "from ENS2 import *"
   ]
  },
  {
   "cell_type": "code",
   "execution_count": 2,
   "metadata": {},
   "outputs": [
    {
     "name": "stdout",
     "output_type": "stream",
     "text": [
      "Using cuda\n"
     ]
    }
   ],
   "source": [
    "ens2 = ENS2()\n",
    "DEVICE = 'cuda' if torch.cuda.is_available() else 'cpu'  # works with either CPU or GPU\n",
    "ens2.DEVICE = DEVICE\n",
    "print(f'Using {DEVICE}')"
   ]
  },
  {
   "cell_type": "code",
   "execution_count": 3,
   "metadata": {},
   "outputs": [],
   "source": [
    "load_state_dict = True   # Whether to load pre-trained model\n",
    "                          # True: use pre-trained model\n",
    "                          # False: re-train model from scratch\n",
    "\n",
    "neuron_type = 'Exc'       # Inference on 'Exc' or 'Inh' neurons\n",
    "\n",
    "if load_state_dict:\n",
    "    if neuron_type == 'Exc':\n",
    "        state_dict_raw  = torch.load('./saved_model/C_220812172434_dsets0_60.0Hz_Raw_UNet_MSE_Epoch1515.pt',\n",
    "                                 map_location=torch.device(DEVICE)).state_dict()\n",
    "    elif neuron_type == 'Inh':\n",
    "        state_dict_raw  = torch.load('./saved_model/C_220812172805_dsets0_60.0Hz_Raw_UNet_MSE_Epoch1357.pt',\n",
    "                                 map_location=torch.device(DEVICE)).state_dict()\n",
    "else:\n",
    "    ens2.train(neuron=neuron_type)"
   ]
  },
  {
   "cell_type": "code",
   "execution_count": 4,
   "metadata": {},
   "outputs": [
    {
     "name": "stdout",
     "output_type": "stream",
     "text": [
      "Variable(s) are:\n",
      "dff\n"
     ]
    }
   ],
   "source": [
    "# Load sample data from file\n",
    "\n",
    "test_data = scio.loadmat('./sample_data/sample_data.mat')  # (configure your file path here)\n",
    "\n",
    "print(\"Variable(s) are:\\n\" + \"\\n\".join(str(i) for i in list(test_data.keys()) if '__' not in i))"
   ]
  },
  {
   "cell_type": "code",
   "execution_count": 5,
   "metadata": {},
   "outputs": [
    {
     "name": "stdout",
     "output_type": "stream",
     "text": [
      "(6, 2000)\n"
     ]
    }
   ],
   "source": [
    "dff = test_data['dff']    # input shape: (trials x frames) 2-d numpy array\n",
    "print(dff.shape)"
   ]
  },
  {
   "cell_type": "code",
   "execution_count": 6,
   "metadata": {},
   "outputs": [],
   "source": [
    "def predict_test_data(test_data, trial_time):\n",
    "    \n",
    "    # test_data       - input data in required format: (trials x frames)\n",
    "    # trial_time      - total time accounted for one row of samples (frames)\n",
    "    \n",
    "    # Pre-process data and segmentation\n",
    "    print('Process data...')\n",
    "    test_data = compile_test_data(test_data, trial_time)\n",
    "    \n",
    "    # Prepare model parameters\n",
    "    if load_state_dict:\n",
    "        state_dict = state_dict_raw\n",
    "    else:\n",
    "        state_dict = None\n",
    "        \n",
    "    print('Inferring...')\n",
    "    for trial in trange(len(test_data)):\n",
    "        calcium, pd_rate, pd_spike, pd_event = ens2.predict(test_data[trial]['dff_resampled_segment'], \n",
    "                                                            state_dict=state_dict)\n",
    "        test_data[trial]['calcium'] = np.float32(calcium)\n",
    "        test_data[trial]['pd_rate'] = np.float32(pd_rate)\n",
    "        test_data[trial]['pd_spike'] = np.float32(pd_spike)\n",
    "        test_data[trial]['pd_event'] = np.float32(pd_event)\n",
    "        \n",
    "        test_data[trial]['dff_resampled_segment'] = [] # remove segments to reduce storage space\n",
    "    return test_data"
   ]
  },
  {
   "cell_type": "code",
   "execution_count": 7,
   "metadata": {
    "scrolled": true
   },
   "outputs": [
    {
     "name": "stdout",
     "output_type": "stream",
     "text": [
      "Process data...\n",
      "Test data has 6 trials.\n",
      "Recording duration is 200s, equaling 10.0Hz frame rate.\n",
      "Compile data done.\n",
      "Inferring...\n"
     ]
    },
    {
     "data": {
      "application/vnd.jupyter.widget-view+json": {
       "model_id": "e5a040a095704c47b27b58614f49d58f",
       "version_major": 2,
       "version_minor": 0
      },
      "text/plain": [
       "  0%|          | 0/6 [00:00<?, ?it/s]"
      ]
     },
     "metadata": {},
     "output_type": "display_data"
    }
   ],
   "source": [
    "# Inference with ENS2\n",
    "\n",
    "trial_num = 20      # trials\n",
    "trial_duration = 10 # seconds per trial\n",
    "\n",
    "dff_ENS2 = predict_test_data(dff, trial_time=trial_duration*trial_num)"
   ]
  },
  {
   "cell_type": "code",
   "execution_count": 8,
   "metadata": {},
   "outputs": [],
   "source": [
    "# Save results for analyses in MATLAB \n",
    "\n",
    "scio.savemat('./results/sample_data_ENS2.mat', {'dff':dff, 'dff_ENS2':dff_ENS2})"
   ]
  },
  {
   "cell_type": "markdown",
   "metadata": {},
   "source": [
    "Please use <i>visualizer.m</i> in MATLAB to visualize the results. \n",
    "<br> Note that there would be minor randomness every time the model is re-trained, due to different GPU/toolkits setup."
   ]
  }
 ],
 "metadata": {
  "kernelspec": {
   "display_name": "Python 3",
   "language": "python",
   "name": "python3"
  },
  "language_info": {
   "codemirror_mode": {
    "name": "ipython",
    "version": 3
   },
   "file_extension": ".py",
   "mimetype": "text/x-python",
   "name": "python",
   "nbconvert_exporter": "python",
   "pygments_lexer": "ipython3",
   "version": "3.6.12"
  },
  "toc-autonumbering": false,
  "toc-showcode": false,
  "toc-showmarkdowntxt": true,
  "toc-showtags": false,
  "varInspector": {
   "cols": {
    "lenName": 16,
    "lenType": 16,
    "lenVar": 40
   },
   "kernels_config": {
    "python": {
     "delete_cmd_postfix": "",
     "delete_cmd_prefix": "del ",
     "library": "var_list.py",
     "varRefreshCmd": "print(var_dic_list())"
    },
    "r": {
     "delete_cmd_postfix": ") ",
     "delete_cmd_prefix": "rm(",
     "library": "var_list.r",
     "varRefreshCmd": "cat(var_dic_list()) "
    }
   },
   "oldHeight": 611.4,
   "position": {
    "height": "40px",
    "left": "1148px",
    "right": "20px",
    "top": "93px",
    "width": "351px"
   },
   "types_to_exclude": [
    "module",
    "function",
    "builtin_function_or_method",
    "instance",
    "_Feature"
   ],
   "varInspector_section_display": "none",
   "window_display": false
  }
 },
 "nbformat": 4,
 "nbformat_minor": 4
}
